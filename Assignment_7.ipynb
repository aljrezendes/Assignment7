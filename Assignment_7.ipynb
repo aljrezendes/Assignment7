`### Conceptual Question #1: K-Means Clustering

The K-means algorithm minimizes the within-cluster variation by iteratively refining cluster assignments and centroids. Its guarantee of monotonic improvement is supported by the identity in equation (12.18):

\[
\frac{1}{|C_k|} \sum_{i, i' \in C_k} \sum_{j=1}^p (x_{ij} - x_{i'j})^2 = 2 \sum_{i \in C_k} \sum_{j=1}^p (x_{ij} - \bar{x}_{kj})^2
\]

#### (a) Proof of Identity (12.18)

Let \( \bar{x}_{kj} = \frac{1}{|C_k|} \sum_{i \in C_k} x_{ij} \) be the mean of feature \( j \) in cluster \( C_k \).
We begin by expanding the left-hand side:

\[
\sum_{i, i' \in C_k} (x_{ij} - x_{i'j})^2 = \sum_{i, i'} \left[(x_{ij} - \bar{x}_{kj}) - (x_{i'j} - \bar{x}_{kj})\right]^2
\]

Applying the identity \( (a - b)^2 = a^2 - 2ab + b^2 \), we obtain:

\[
\sum_{i, i'} (x_{ij} - x_{i'j})^2 = 2|C_k| \sum_{i \in C_k} (x_{ij} - \bar{x}_{kj})^2
\]

Dividing both sides by \( |C_k| \) yields the desired result:

\[
\frac{1}{|C_k|} \sum_{i, i' \in C_k} (x_{ij} - x_{i'j})^2 = 2 \sum_{i \in C_k} (x_{ij} - \bar{x}_{kj})^2
\]

Summing over all features \( j = 1, ..., p \) completes the proof.

---

#### (b) Monotonic Improvement of the Objective

The K-means objective function (12.17) is the total within-cluster variation. Equation (12.18) shows that minimizing the average pairwise squared distances within a cluster is equivalent to minimizing the sum of squared deviations from the cluster mean.

During each iteration of the algorithm:
- **Step 2(a)** computes centroids \( \bar{x}_{kj} \), which minimize the within-cluster sum of squares.
- **Step 2(b)** reassigns observations to the nearest centroid, thereby reducing or maintaining the current within-cluster variation.

Because each step either reduces or leaves unchanged the total loss, the algorithm is guaranteed to decrease the objective function until convergence to a local minimum.

**Reference:**
James, G., Witten, D., Hastie, T., & Tibshirani, R. (2021). *An Introduction to Statistical Learning: with Applications in Python* (2nd ed.). Springer.
